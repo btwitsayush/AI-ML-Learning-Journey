{
 "cells": [
  {
   "cell_type": "code",
   "execution_count": null,
   "id": "90284005-6ed6-41f9-bf1e-13d88b9f4ebb",
   "metadata": {},
   "outputs": [],
   "source": [
    "from sklearn.linear_model import LogisticRegression\n",
    "from sklearn.svm import SVC\n",
    "from sklearn.ensemble import RandomForestClassifier\n",
    "import numpy as np\n",
    "from sklearn.datasets import load_digits\n",
    "\n",
    "digits=load_digits()"
   ]
  },
  {
   "cell_type": "code",
   "execution_count": 43,
   "id": "72819cb7-8a59-4311-83ca-22c246e6455f",
   "metadata": {},
   "outputs": [
    {
     "data": {
      "text/plain": [
       "['DESCR', 'data', 'feature_names', 'frame', 'images', 'target', 'target_names']"
      ]
     },
     "execution_count": 43,
     "metadata": {},
     "output_type": "execute_result"
    }
   ],
   "source": [
    "dir(digits)"
   ]
  },
  {
   "cell_type": "code",
   "execution_count": 44,
   "id": "b0fe9d84-79d9-4f17-84a0-0e96101da38d",
   "metadata": {},
   "outputs": [],
   "source": [
    "from sklearn.model_selection import train_test_split"
   ]
  },
  {
   "cell_type": "code",
   "execution_count": 45,
   "id": "7f94ddc6-2f44-44da-a1e2-e85624f5b600",
   "metadata": {},
   "outputs": [
    {
     "data": {
      "text/plain": [
       "array([[ 0.,  0.,  5., ...,  0.,  0.,  0.],\n",
       "       [ 0.,  0.,  0., ..., 10.,  0.,  0.],\n",
       "       [ 0.,  0.,  0., ..., 16.,  9.,  0.],\n",
       "       ...,\n",
       "       [ 0.,  0.,  1., ...,  6.,  0.,  0.],\n",
       "       [ 0.,  0.,  2., ..., 12.,  0.,  0.],\n",
       "       [ 0.,  0., 10., ..., 12.,  1.,  0.]])"
      ]
     },
     "execution_count": 45,
     "metadata": {},
     "output_type": "execute_result"
    }
   ],
   "source": [
    "features=digits.data\n",
    "features"
   ]
  },
  {
   "cell_type": "code",
   "execution_count": 46,
   "id": "9a9d5193-79b2-4bbf-909f-fcba72326138",
   "metadata": {},
   "outputs": [
    {
     "data": {
      "text/plain": [
       "array([0, 1, 2, ..., 8, 9, 8])"
      ]
     },
     "execution_count": 46,
     "metadata": {},
     "output_type": "execute_result"
    }
   ],
   "source": [
    "targets=digits.target\n",
    "targets"
   ]
  },
  {
   "cell_type": "code",
   "execution_count": 47,
   "id": "a6266097-b8c9-4777-9048-ebff943417f8",
   "metadata": {},
   "outputs": [],
   "source": [
    "X_train,X_test,y_train,y_test=train_test_split(features,targets,test_size=0.2)"
   ]
  },
  {
   "cell_type": "code",
   "execution_count": 48,
   "id": "baedc451-679c-4c7c-a1fb-df90b0ca4bea",
   "metadata": {},
   "outputs": [
    {
     "data": {
      "text/plain": [
       "0.9722222222222222"
      ]
     },
     "execution_count": 48,
     "metadata": {},
     "output_type": "execute_result"
    }
   ],
   "source": [
    "# We are using max_iter=1000 to allow the model more iterations to converge, which can help\n",
    "#improve performance if the default iteration limit was too low.\n",
    "logistic_model = LogisticRegression(max_iter=1000)  \n",
    "logistic_model.fit(X_train, y_train)\n",
    "logistic_model.score(X_test, y_test)"
   ]
  },
  {
   "cell_type": "code",
   "execution_count": 49,
   "id": "2cda2db1-ccd2-4601-a14c-993ca1f90e9d",
   "metadata": {},
   "outputs": [
    {
     "data": {
      "text/plain": [
       "0.9833333333333333"
      ]
     },
     "execution_count": 49,
     "metadata": {},
     "output_type": "execute_result"
    }
   ],
   "source": [
    "#Training our same model with SVM(Support Vector Machine)\n",
    "svm_model=SVC()\n",
    "svm_model.fit(X_train,y_train)\n",
    "svm_model.score(X_test,y_test)"
   ]
  },
  {
   "cell_type": "code",
   "execution_count": 50,
   "id": "71632153-88a0-4e41-b837-8600fa8d567d",
   "metadata": {},
   "outputs": [
    {
     "data": {
      "text/plain": [
       "0.9666666666666667"
      ]
     },
     "execution_count": 50,
     "metadata": {},
     "output_type": "execute_result"
    }
   ],
   "source": [
    "#Training the model with Random Forest\n",
    "random_forest_model=RandomForestClassifier()\n",
    "random_forest_model.fit(X_train,y_train)\n",
    "random_forest_model.score(X_test,y_test)"
   ]
  },
  {
   "cell_type": "code",
   "execution_count": 51,
   "id": "e77fe9ce-00b1-4e8e-b657-1843368d383d",
   "metadata": {},
   "outputs": [
    {
     "data": {
      "text/plain": [
       "KFold(n_splits=3, random_state=None, shuffle=False)"
      ]
     },
     "execution_count": 51,
     "metadata": {},
     "output_type": "execute_result"
    }
   ],
   "source": [
    "#Now using a K_Fold cross validation to devleop a model\n",
    "\n",
    "#Basically in K Fold model we split our model in n-section and then for each split\n",
    "#we train and test data \n",
    "\n",
    "from sklearn.model_selection import KFold\n",
    "kfold_model=KFold(n_splits=3) #n_splits=3 meand m=we are dividing our data into 3 sections\n",
    "kfold_model"
   ]
  },
  {
   "cell_type": "code",
   "execution_count": 52,
   "id": "290d3a95-13a8-450d-964f-9665e922e4a7",
   "metadata": {},
   "outputs": [
    {
     "name": "stdout",
     "output_type": "stream",
     "text": [
      "[3 4 5 6 7 8] [0 1 2]\n",
      "[0 1 2 6 7 8] [3 4 5]\n",
      "[0 1 2 3 4 5] [6 7 8]\n"
     ]
    }
   ],
   "source": [
    "#Now we are passing or data set \n",
    "\n",
    "for train_index,test_index in kfold_model.split([1,2,3,4,5,6,7,8,9]):#we passed 9 dataset\n",
    "    print(train_index,test_index)\n",
    "    "
   ]
  },
  {
   "cell_type": "code",
   "execution_count": 53,
   "id": "91d4edf8-6954-47a1-a284-9aec9ffd97fe",
   "metadata": {},
   "outputs": [],
   "source": [
    "#We can use this function to train model of different algorithims\n",
    "def get_score(model,X_train,X_test,y_train,y_test):\n",
    "    model.fit(X_train,y_train)\n",
    "    return model.score(X_test,y_test)"
   ]
  },
  {
   "cell_type": "code",
   "execution_count": 54,
   "id": "7bff443c-d2d9-4176-8ce9-4221c3778109",
   "metadata": {},
   "outputs": [
    {
     "data": {
      "text/plain": [
       "0.9833333333333333"
      ]
     },
     "execution_count": 54,
     "metadata": {},
     "output_type": "execute_result"
    }
   ],
   "source": [
    "get_score(SVC(),X_train,X_test,y_train,y_test)"
   ]
  },
  {
   "cell_type": "code",
   "execution_count": 55,
   "id": "6d1cbf22-4974-4bbe-a67b-14346761500b",
   "metadata": {},
   "outputs": [],
   "source": [
    "from sklearn.model_selection import cross_val_score"
   ]
  },
  {
   "cell_type": "code",
   "execution_count": null,
   "id": "52b214cc-a787-47d0-9f72-8f2e59b3c9d3",
   "metadata": {},
   "outputs": [],
   "source": [
    "#using corss_val_score now we are going to evalute score of our different models and decide which model is best for this dataset"
   ]
  },
  {
   "cell_type": "code",
   "execution_count": 59,
   "id": "95728586-12e9-4d60-9ce3-42ebad9c88cb",
   "metadata": {},
   "outputs": [
    {
     "data": {
      "text/plain": [
       "array([0.91986644, 0.94156928, 0.91652755])"
      ]
     },
     "execution_count": 59,
     "metadata": {},
     "output_type": "execute_result"
    }
   ],
   "source": [
    "#We are using cross_val_score() method to train our model on different split of data set\n",
    "#cv=3 means dividing aur datasets into 3 folds\n",
    "cross_val_score(LogisticRegression(max_iter=1000),features,targets,cv=3)"
   ]
  },
  {
   "cell_type": "code",
   "execution_count": 61,
   "id": "ec012f86-1cf5-4027-9967-8478ced349aa",
   "metadata": {},
   "outputs": [
    {
     "data": {
      "text/plain": [
       "array([0.96494157, 0.97996661, 0.96494157])"
      ]
     },
     "execution_count": 61,
     "metadata": {},
     "output_type": "execute_result"
    }
   ],
   "source": [
    "cross_val_score(SVC(),features,targets,cv=3)"
   ]
  },
  {
   "cell_type": "code",
   "execution_count": 62,
   "id": "a9940d3c-b8e6-4068-a4d1-ccf916800e63",
   "metadata": {},
   "outputs": [
    {
     "data": {
      "text/plain": [
       "array([0.93989983, 0.95158598, 0.93155259])"
      ]
     },
     "execution_count": 62,
     "metadata": {},
     "output_type": "execute_result"
    }
   ],
   "source": [
    "cross_val_score(RandomForestClassifier(),features,targets,cv=3)"
   ]
  }
 ],
 "metadata": {
  "kernelspec": {
   "display_name": "Python 3 (ipykernel)",
   "language": "python",
   "name": "python3"
  },
  "language_info": {
   "codemirror_mode": {
    "name": "ipython",
    "version": 3
   },
   "file_extension": ".py",
   "mimetype": "text/x-python",
   "name": "python",
   "nbconvert_exporter": "python",
   "pygments_lexer": "ipython3",
   "version": "3.9.20"
  }
 },
 "nbformat": 4,
 "nbformat_minor": 5
}
